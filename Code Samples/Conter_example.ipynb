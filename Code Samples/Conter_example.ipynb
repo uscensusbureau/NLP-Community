{
 "cells": [
  {
   "cell_type": "markdown",
   "metadata": {},
   "source": [
    "## NLP Community\n",
    "\n",
    "demenstation of collections.Counter objects"
   ]
  },
  {
   "cell_type": "code",
   "execution_count": 1,
   "metadata": {},
   "outputs": [],
   "source": [
    "import pandas as pd\n",
    "import numpy as np\n",
    "from collections import Counter, ChainMap\n",
    "import pprint\n",
    "pp = pprint.PrettyPrinter(indent=4)\n",
    "import string\n",
    "import random\n",
    "import uuid\n",
    "from math import floor"
   ]
  },
  {
   "cell_type": "code",
   "execution_count": 2,
   "metadata": {},
   "outputs": [
    {
     "data": {
      "text/plain": [
       "Counter({'Hi Frined': 1})"
      ]
     },
     "execution_count": 2,
     "metadata": {},
     "output_type": "execute_result"
    }
   ],
   "source": [
    "Counter([\"Hi Frined\", \"\"])"
   ]
  },
  {
   "cell_type": "code",
   "execution_count": 18,
   "metadata": {},
   "outputs": [
    {
     "name": "stdout",
     "output_type": "stream",
     "text": [
      "single:  i\n",
      "single:  F\n"
     ]
    },
    {
     "data": {
      "text/plain": [
       "Counter({'i': 1, 'F': 1})"
      ]
     },
     "execution_count": 18,
     "metadata": {},
     "output_type": "execute_result"
    }
   ],
   "source": [
    "singles_conter = Counter()\n",
    "List=[\"Hi Frined\",\"i\",\"Hi Frined\",\"F\",\"Hi Frined\",\"H\",\"Hi Frined\",\"Hi Frined\",\"Hi Frined\",\"Hi Frined\",\"Hi Frined\",\"H\"] \n",
    "for i,L in enumerate(List):\n",
    "    if len(L) == 1:\n",
    "        print(\"single: \", L)\n",
    "        singles_conter.update(L)\n",
    "    if i>3:\n",
    "        break\n",
    "\n",
    "singles_conter"
   ]
  },
  {
   "cell_type": "markdown",
   "metadata": {},
   "source": [
    "# we need to generate some data"
   ]
  },
  {
   "cell_type": "code",
   "execution_count": 13,
   "metadata": {},
   "outputs": [
    {
     "data": {
      "text/html": [
       "<div>\n",
       "<style scoped>\n",
       "    .dataframe tbody tr th:only-of-type {\n",
       "        vertical-align: middle;\n",
       "    }\n",
       "\n",
       "    .dataframe tbody tr th {\n",
       "        vertical-align: top;\n",
       "    }\n",
       "\n",
       "    .dataframe thead th {\n",
       "        text-align: right;\n",
       "    }\n",
       "</style>\n",
       "<table border=\"1\" class=\"dataframe\">\n",
       "  <thead>\n",
       "    <tr style=\"text-align: right;\">\n",
       "      <th></th>\n",
       "      <th>Cat</th>\n",
       "      <th>Gender</th>\n",
       "      <th>id</th>\n",
       "    </tr>\n",
       "  </thead>\n",
       "  <tbody>\n",
       "    <tr>\n",
       "      <th>0</th>\n",
       "      <td>B</td>\n",
       "      <td>Female</td>\n",
       "      <td>bada754a4b074e1ab38d611a850bb0d1</td>\n",
       "    </tr>\n",
       "    <tr>\n",
       "      <th>1</th>\n",
       "      <td>B</td>\n",
       "      <td>Male</td>\n",
       "      <td>70be0053a3834f7f936ee5d6090e7eb6</td>\n",
       "    </tr>\n",
       "    <tr>\n",
       "      <th>2</th>\n",
       "      <td>B</td>\n",
       "      <td>Male</td>\n",
       "      <td>5192586cf85c4e628430e27656ca24e5</td>\n",
       "    </tr>\n",
       "    <tr>\n",
       "      <th>3</th>\n",
       "      <td>C</td>\n",
       "      <td>Male</td>\n",
       "      <td>afcddc53f613453cb429d9141fd6f057</td>\n",
       "    </tr>\n",
       "    <tr>\n",
       "      <th>4</th>\n",
       "      <td>A</td>\n",
       "      <td>Male</td>\n",
       "      <td>85c774190b384ae88c14a3af6950671c</td>\n",
       "    </tr>\n",
       "    <tr>\n",
       "      <th>5</th>\n",
       "      <td>B</td>\n",
       "      <td>Female</td>\n",
       "      <td>918f178808f94ffd982ed791c1407534</td>\n",
       "    </tr>\n",
       "    <tr>\n",
       "      <th>6</th>\n",
       "      <td>C</td>\n",
       "      <td>Female</td>\n",
       "      <td>59273df2765647e998c62ec6fa730c95</td>\n",
       "    </tr>\n",
       "    <tr>\n",
       "      <th>7</th>\n",
       "      <td>C</td>\n",
       "      <td>Male</td>\n",
       "      <td>df3088cbc8d843e1ba4f77e0259bbb33</td>\n",
       "    </tr>\n",
       "    <tr>\n",
       "      <th>8</th>\n",
       "      <td>C</td>\n",
       "      <td>Female</td>\n",
       "      <td>d66159d3ca184e09aa5193658cc80851</td>\n",
       "    </tr>\n",
       "    <tr>\n",
       "      <th>9</th>\n",
       "      <td>A</td>\n",
       "      <td>Male</td>\n",
       "      <td>a5be2893a6574338ab30df29d5605c69</td>\n",
       "    </tr>\n",
       "  </tbody>\n",
       "</table>\n",
       "</div>"
      ],
      "text/plain": [
       "  Cat  Gender                                id\n",
       "0   B  Female  bada754a4b074e1ab38d611a850bb0d1\n",
       "1   B    Male  70be0053a3834f7f936ee5d6090e7eb6\n",
       "2   B    Male  5192586cf85c4e628430e27656ca24e5\n",
       "3   C    Male  afcddc53f613453cb429d9141fd6f057\n",
       "4   A    Male  85c774190b384ae88c14a3af6950671c\n",
       "5   B  Female  918f178808f94ffd982ed791c1407534\n",
       "6   C  Female  59273df2765647e998c62ec6fa730c95\n",
       "7   C    Male  df3088cbc8d843e1ba4f77e0259bbb33\n",
       "8   C  Female  d66159d3ca184e09aa5193658cc80851\n",
       "9   A    Male  a5be2893a6574338ab30df29d5605c69"
      ]
     },
     "execution_count": 13,
     "metadata": {},
     "output_type": "execute_result"
    }
   ],
   "source": [
    "# fun helps\n",
    "def get_cat(N=3):\n",
    "    '''returns a random ALPHA code from N possible codes'''\n",
    "    letters = string.ascii_uppercase\n",
    "    L = len(letters)\n",
    "    if N > L**2:\n",
    "        print('This definition need more logic to support sample space, N, '\n",
    "              'grater than %s^2.\\nSetting N=%s' % (L, L**2))\n",
    "        N = L**2\n",
    "    n = random.randint(1,N)\n",
    "    return (string.ascii_uppercase[n-1] if (n < L) else\n",
    "            '%s%s' % (string.ascii_uppercase[floor(n/L)-1],string.ascii_uppercase[(n%L)-1]))\n",
    "\n",
    "\n",
    "def get_gender():\n",
    "    '''returns a random gender'''\n",
    "    return ['Male', 'Female'][random.randint(0,1)]\n",
    "\n",
    "\n",
    "def get_id():\n",
    "    '''returns a random universally unique identifier'''\n",
    "    return str(uuid.uuid4()).replace('-','')\n",
    "\n",
    "\n",
    "def mk_row(N=3):\n",
    "    '''makes a random row of example data'''\n",
    "    return [get_cat(N=N), get_gender(), get_id()]\n",
    "\n",
    "\n",
    "def mk_example_df(I=10,N=3):\n",
    "    '''makes a random dataframe of data this example.\n",
    "    input: I - number of rows you want\n",
    "           N - number of unique categories in Cat column'''\n",
    "    return pd.DataFrame([mk_row(N=N) for i in range(I)],\n",
    "                        columns = ['Cat','Gender','id'])\n",
    "\n",
    "# show how it works\n",
    "mk_example_df(I=10)"
   ]
  },
  {
   "cell_type": "code",
   "execution_count": 14,
   "metadata": {},
   "outputs": [],
   "source": [
    "# making example data\n",
    "example_df = mk_example_df(I=100)"
   ]
  },
  {
   "cell_type": "code",
   "execution_count": 5,
   "metadata": {},
   "outputs": [
    {
     "data": {
      "text/html": [
       "<div>\n",
       "<style scoped>\n",
       "    .dataframe tbody tr th:only-of-type {\n",
       "        vertical-align: middle;\n",
       "    }\n",
       "\n",
       "    .dataframe tbody tr th {\n",
       "        vertical-align: top;\n",
       "    }\n",
       "\n",
       "    .dataframe thead th {\n",
       "        text-align: right;\n",
       "    }\n",
       "</style>\n",
       "<table border=\"1\" class=\"dataframe\">\n",
       "  <thead>\n",
       "    <tr style=\"text-align: right;\">\n",
       "      <th></th>\n",
       "      <th>Cat</th>\n",
       "      <th>Gender</th>\n",
       "      <th>id</th>\n",
       "    </tr>\n",
       "  </thead>\n",
       "  <tbody>\n",
       "    <tr>\n",
       "      <th>0</th>\n",
       "      <td>A</td>\n",
       "      <td>Male</td>\n",
       "      <td>7e312adda48a498daaf10d4f82dbdf3c</td>\n",
       "    </tr>\n",
       "    <tr>\n",
       "      <th>1</th>\n",
       "      <td>B</td>\n",
       "      <td>Female</td>\n",
       "      <td>8e66c7ac66024a238ab8bc2aa56554b0</td>\n",
       "    </tr>\n",
       "    <tr>\n",
       "      <th>2</th>\n",
       "      <td>A</td>\n",
       "      <td>Male</td>\n",
       "      <td>0f588e06fcf3486888c718f69ec56de5</td>\n",
       "    </tr>\n",
       "    <tr>\n",
       "      <th>3</th>\n",
       "      <td>B</td>\n",
       "      <td>Female</td>\n",
       "      <td>938422d0d7e94d8cb75225baddc69eaf</td>\n",
       "    </tr>\n",
       "    <tr>\n",
       "      <th>4</th>\n",
       "      <td>C</td>\n",
       "      <td>Female</td>\n",
       "      <td>77c2f22af4524650a88a29c083456cfc</td>\n",
       "    </tr>\n",
       "    <tr>\n",
       "      <th>5</th>\n",
       "      <td>A</td>\n",
       "      <td>Male</td>\n",
       "      <td>d0d942c3afd34d5a8c9e2537295062c3</td>\n",
       "    </tr>\n",
       "    <tr>\n",
       "      <th>6</th>\n",
       "      <td>A</td>\n",
       "      <td>Male</td>\n",
       "      <td>22e143712d6f4cbcac5610c4295371ab</td>\n",
       "    </tr>\n",
       "    <tr>\n",
       "      <th>7</th>\n",
       "      <td>C</td>\n",
       "      <td>Male</td>\n",
       "      <td>05ae885d0bcf410dbc7e5b3a5bb7d50f</td>\n",
       "    </tr>\n",
       "    <tr>\n",
       "      <th>8</th>\n",
       "      <td>A</td>\n",
       "      <td>Male</td>\n",
       "      <td>dd6c38a25e4147e8a76849abf3fa33e8</td>\n",
       "    </tr>\n",
       "    <tr>\n",
       "      <th>9</th>\n",
       "      <td>B</td>\n",
       "      <td>Male</td>\n",
       "      <td>ad4adf6e29f0448395d6ab279ee60409</td>\n",
       "    </tr>\n",
       "    <tr>\n",
       "      <th>10</th>\n",
       "      <td>C</td>\n",
       "      <td>Female</td>\n",
       "      <td>4fcccc5659e4442abd55f821b0e63931</td>\n",
       "    </tr>\n",
       "    <tr>\n",
       "      <th>11</th>\n",
       "      <td>C</td>\n",
       "      <td>Male</td>\n",
       "      <td>03e177f4fafc4355a3127ff2ce97b44a</td>\n",
       "    </tr>\n",
       "    <tr>\n",
       "      <th>12</th>\n",
       "      <td>A</td>\n",
       "      <td>Female</td>\n",
       "      <td>be9ad118adf14c76a99b34e3310890d3</td>\n",
       "    </tr>\n",
       "    <tr>\n",
       "      <th>13</th>\n",
       "      <td>B</td>\n",
       "      <td>Male</td>\n",
       "      <td>8f88b38be05a42f188ace299b7bcaf63</td>\n",
       "    </tr>\n",
       "    <tr>\n",
       "      <th>14</th>\n",
       "      <td>B</td>\n",
       "      <td>Male</td>\n",
       "      <td>e43c91d9c1424804bf432a15e97efe83</td>\n",
       "    </tr>\n",
       "    <tr>\n",
       "      <th>15</th>\n",
       "      <td>C</td>\n",
       "      <td>Female</td>\n",
       "      <td>aad228a99c554c729e86626e3e533b8e</td>\n",
       "    </tr>\n",
       "    <tr>\n",
       "      <th>16</th>\n",
       "      <td>B</td>\n",
       "      <td>Female</td>\n",
       "      <td>835fc4bbb7204c309e85dcef6fb67633</td>\n",
       "    </tr>\n",
       "    <tr>\n",
       "      <th>17</th>\n",
       "      <td>A</td>\n",
       "      <td>Female</td>\n",
       "      <td>edfd13a341a34d449e1718a28dafe5c7</td>\n",
       "    </tr>\n",
       "    <tr>\n",
       "      <th>18</th>\n",
       "      <td>B</td>\n",
       "      <td>Male</td>\n",
       "      <td>319e8303d77b4617a28c9c9dff7bc83e</td>\n",
       "    </tr>\n",
       "    <tr>\n",
       "      <th>19</th>\n",
       "      <td>A</td>\n",
       "      <td>Male</td>\n",
       "      <td>03462239fcf94cc7aa42423df9301c83</td>\n",
       "    </tr>\n",
       "    <tr>\n",
       "      <th>20</th>\n",
       "      <td>B</td>\n",
       "      <td>Male</td>\n",
       "      <td>6ab519f1ccc64e1bba504f0ecd2fb85f</td>\n",
       "    </tr>\n",
       "    <tr>\n",
       "      <th>21</th>\n",
       "      <td>B</td>\n",
       "      <td>Female</td>\n",
       "      <td>c23ca542424d425bbe3f3edaf228f2cc</td>\n",
       "    </tr>\n",
       "    <tr>\n",
       "      <th>22</th>\n",
       "      <td>B</td>\n",
       "      <td>Female</td>\n",
       "      <td>601115ff06ca423bb873ae8a8b86f6b0</td>\n",
       "    </tr>\n",
       "    <tr>\n",
       "      <th>23</th>\n",
       "      <td>A</td>\n",
       "      <td>Female</td>\n",
       "      <td>d2b2e7573fb848179f08c24ef0fdf3a6</td>\n",
       "    </tr>\n",
       "    <tr>\n",
       "      <th>24</th>\n",
       "      <td>B</td>\n",
       "      <td>Male</td>\n",
       "      <td>db295f68e8b84171975ef104efa13d7e</td>\n",
       "    </tr>\n",
       "    <tr>\n",
       "      <th>25</th>\n",
       "      <td>A</td>\n",
       "      <td>Female</td>\n",
       "      <td>fb39f2140b38409b9edfe4bb04059337</td>\n",
       "    </tr>\n",
       "    <tr>\n",
       "      <th>26</th>\n",
       "      <td>B</td>\n",
       "      <td>Male</td>\n",
       "      <td>310f2afae76342508f556284367d20fb</td>\n",
       "    </tr>\n",
       "    <tr>\n",
       "      <th>27</th>\n",
       "      <td>C</td>\n",
       "      <td>Male</td>\n",
       "      <td>1ba7cfe684e9425f9d5ced7749ecea3e</td>\n",
       "    </tr>\n",
       "    <tr>\n",
       "      <th>28</th>\n",
       "      <td>B</td>\n",
       "      <td>Male</td>\n",
       "      <td>43f2d0574f02452c921dadadab1fee18</td>\n",
       "    </tr>\n",
       "    <tr>\n",
       "      <th>29</th>\n",
       "      <td>B</td>\n",
       "      <td>Female</td>\n",
       "      <td>b1f429a272c0413d8256408f517aaf79</td>\n",
       "    </tr>\n",
       "    <tr>\n",
       "      <th>...</th>\n",
       "      <td>...</td>\n",
       "      <td>...</td>\n",
       "      <td>...</td>\n",
       "    </tr>\n",
       "    <tr>\n",
       "      <th>70</th>\n",
       "      <td>B</td>\n",
       "      <td>Female</td>\n",
       "      <td>4f55b2083deb4ec5a9ef3bb389ebb44d</td>\n",
       "    </tr>\n",
       "    <tr>\n",
       "      <th>71</th>\n",
       "      <td>B</td>\n",
       "      <td>Male</td>\n",
       "      <td>6c51bba26f3146a3bab4fdb7987da579</td>\n",
       "    </tr>\n",
       "    <tr>\n",
       "      <th>72</th>\n",
       "      <td>A</td>\n",
       "      <td>Male</td>\n",
       "      <td>f7cd1fb710aa43cd82be3cdec613a40c</td>\n",
       "    </tr>\n",
       "    <tr>\n",
       "      <th>73</th>\n",
       "      <td>C</td>\n",
       "      <td>Male</td>\n",
       "      <td>4afae456ef4d4752aaa6cac6af9212fc</td>\n",
       "    </tr>\n",
       "    <tr>\n",
       "      <th>74</th>\n",
       "      <td>C</td>\n",
       "      <td>Male</td>\n",
       "      <td>8c673c3c0b70494d93e8f12effe400a1</td>\n",
       "    </tr>\n",
       "    <tr>\n",
       "      <th>75</th>\n",
       "      <td>C</td>\n",
       "      <td>Female</td>\n",
       "      <td>07922c17773c439c9356681c3b8cb74e</td>\n",
       "    </tr>\n",
       "    <tr>\n",
       "      <th>76</th>\n",
       "      <td>B</td>\n",
       "      <td>Male</td>\n",
       "      <td>d5fc49f5a8fb4c9792ad31c9c309eb81</td>\n",
       "    </tr>\n",
       "    <tr>\n",
       "      <th>77</th>\n",
       "      <td>B</td>\n",
       "      <td>Female</td>\n",
       "      <td>c8250c1a4472470fafac6a0e8a58e9e3</td>\n",
       "    </tr>\n",
       "    <tr>\n",
       "      <th>78</th>\n",
       "      <td>B</td>\n",
       "      <td>Male</td>\n",
       "      <td>00bd15d5705d4112afdd0b3c9757ece4</td>\n",
       "    </tr>\n",
       "    <tr>\n",
       "      <th>79</th>\n",
       "      <td>C</td>\n",
       "      <td>Female</td>\n",
       "      <td>412edbe4cd1a4be299d0829c1182a2a8</td>\n",
       "    </tr>\n",
       "    <tr>\n",
       "      <th>80</th>\n",
       "      <td>A</td>\n",
       "      <td>Male</td>\n",
       "      <td>cd5bd423f5d84d6d8e12a772916d30ef</td>\n",
       "    </tr>\n",
       "    <tr>\n",
       "      <th>81</th>\n",
       "      <td>B</td>\n",
       "      <td>Male</td>\n",
       "      <td>f7f3ad1d185944b1b5d86c8355375073</td>\n",
       "    </tr>\n",
       "    <tr>\n",
       "      <th>82</th>\n",
       "      <td>B</td>\n",
       "      <td>Male</td>\n",
       "      <td>98d3f52083b8475a8195821bb0ad0df3</td>\n",
       "    </tr>\n",
       "    <tr>\n",
       "      <th>83</th>\n",
       "      <td>C</td>\n",
       "      <td>Female</td>\n",
       "      <td>ea08128aa31647f0be802f14720eb5c2</td>\n",
       "    </tr>\n",
       "    <tr>\n",
       "      <th>84</th>\n",
       "      <td>A</td>\n",
       "      <td>Female</td>\n",
       "      <td>18e00cf596f84a7cb383221c4cda28ca</td>\n",
       "    </tr>\n",
       "    <tr>\n",
       "      <th>85</th>\n",
       "      <td>C</td>\n",
       "      <td>Female</td>\n",
       "      <td>2a0dfa8ae6794f74b0f0fadcd874490a</td>\n",
       "    </tr>\n",
       "    <tr>\n",
       "      <th>86</th>\n",
       "      <td>B</td>\n",
       "      <td>Female</td>\n",
       "      <td>83f9d483ad8546228f5168bf4b5d10df</td>\n",
       "    </tr>\n",
       "    <tr>\n",
       "      <th>87</th>\n",
       "      <td>B</td>\n",
       "      <td>Male</td>\n",
       "      <td>3462f9480a554e4dbecf044bd7f94883</td>\n",
       "    </tr>\n",
       "    <tr>\n",
       "      <th>88</th>\n",
       "      <td>C</td>\n",
       "      <td>Female</td>\n",
       "      <td>4a82b9911f174c00a8d10a7280718d81</td>\n",
       "    </tr>\n",
       "    <tr>\n",
       "      <th>89</th>\n",
       "      <td>B</td>\n",
       "      <td>Male</td>\n",
       "      <td>0519aa8c9ec24aaa9c23f48f459e66a3</td>\n",
       "    </tr>\n",
       "    <tr>\n",
       "      <th>90</th>\n",
       "      <td>C</td>\n",
       "      <td>Male</td>\n",
       "      <td>4c3e97ffec8a4760a80983385e5b0ca6</td>\n",
       "    </tr>\n",
       "    <tr>\n",
       "      <th>91</th>\n",
       "      <td>B</td>\n",
       "      <td>Male</td>\n",
       "      <td>cee0293852b546008b79a98d2e99ef6d</td>\n",
       "    </tr>\n",
       "    <tr>\n",
       "      <th>92</th>\n",
       "      <td>A</td>\n",
       "      <td>Female</td>\n",
       "      <td>54bb1cf637504a05a20016880393b729</td>\n",
       "    </tr>\n",
       "    <tr>\n",
       "      <th>93</th>\n",
       "      <td>A</td>\n",
       "      <td>Male</td>\n",
       "      <td>4ae45fa7b49040bab8e8823813c7ea1d</td>\n",
       "    </tr>\n",
       "    <tr>\n",
       "      <th>94</th>\n",
       "      <td>B</td>\n",
       "      <td>Male</td>\n",
       "      <td>28e89af9935e4f4e98ad27ba39989753</td>\n",
       "    </tr>\n",
       "    <tr>\n",
       "      <th>95</th>\n",
       "      <td>A</td>\n",
       "      <td>Male</td>\n",
       "      <td>23bd6f83b92f4381a077009918f0c704</td>\n",
       "    </tr>\n",
       "    <tr>\n",
       "      <th>96</th>\n",
       "      <td>A</td>\n",
       "      <td>Male</td>\n",
       "      <td>c16224843eb94b35922d4b75c401594f</td>\n",
       "    </tr>\n",
       "    <tr>\n",
       "      <th>97</th>\n",
       "      <td>B</td>\n",
       "      <td>Female</td>\n",
       "      <td>bb62117b6ae94603b1e4373495761bd6</td>\n",
       "    </tr>\n",
       "    <tr>\n",
       "      <th>98</th>\n",
       "      <td>C</td>\n",
       "      <td>Male</td>\n",
       "      <td>b120fc3fbe8a4b0eb5e85524c2824dcc</td>\n",
       "    </tr>\n",
       "    <tr>\n",
       "      <th>99</th>\n",
       "      <td>B</td>\n",
       "      <td>Male</td>\n",
       "      <td>6d2c1ac1e7b54ffeb0bf6f50f99eaa5c</td>\n",
       "    </tr>\n",
       "  </tbody>\n",
       "</table>\n",
       "<p>100 rows × 3 columns</p>\n",
       "</div>"
      ],
      "text/plain": [
       "   Cat  Gender                                id\n",
       "0    A    Male  7e312adda48a498daaf10d4f82dbdf3c\n",
       "1    B  Female  8e66c7ac66024a238ab8bc2aa56554b0\n",
       "2    A    Male  0f588e06fcf3486888c718f69ec56de5\n",
       "3    B  Female  938422d0d7e94d8cb75225baddc69eaf\n",
       "4    C  Female  77c2f22af4524650a88a29c083456cfc\n",
       "5    A    Male  d0d942c3afd34d5a8c9e2537295062c3\n",
       "6    A    Male  22e143712d6f4cbcac5610c4295371ab\n",
       "7    C    Male  05ae885d0bcf410dbc7e5b3a5bb7d50f\n",
       "8    A    Male  dd6c38a25e4147e8a76849abf3fa33e8\n",
       "9    B    Male  ad4adf6e29f0448395d6ab279ee60409\n",
       "10   C  Female  4fcccc5659e4442abd55f821b0e63931\n",
       "11   C    Male  03e177f4fafc4355a3127ff2ce97b44a\n",
       "12   A  Female  be9ad118adf14c76a99b34e3310890d3\n",
       "13   B    Male  8f88b38be05a42f188ace299b7bcaf63\n",
       "14   B    Male  e43c91d9c1424804bf432a15e97efe83\n",
       "15   C  Female  aad228a99c554c729e86626e3e533b8e\n",
       "16   B  Female  835fc4bbb7204c309e85dcef6fb67633\n",
       "17   A  Female  edfd13a341a34d449e1718a28dafe5c7\n",
       "18   B    Male  319e8303d77b4617a28c9c9dff7bc83e\n",
       "19   A    Male  03462239fcf94cc7aa42423df9301c83\n",
       "20   B    Male  6ab519f1ccc64e1bba504f0ecd2fb85f\n",
       "21   B  Female  c23ca542424d425bbe3f3edaf228f2cc\n",
       "22   B  Female  601115ff06ca423bb873ae8a8b86f6b0\n",
       "23   A  Female  d2b2e7573fb848179f08c24ef0fdf3a6\n",
       "24   B    Male  db295f68e8b84171975ef104efa13d7e\n",
       "25   A  Female  fb39f2140b38409b9edfe4bb04059337\n",
       "26   B    Male  310f2afae76342508f556284367d20fb\n",
       "27   C    Male  1ba7cfe684e9425f9d5ced7749ecea3e\n",
       "28   B    Male  43f2d0574f02452c921dadadab1fee18\n",
       "29   B  Female  b1f429a272c0413d8256408f517aaf79\n",
       "..  ..     ...                               ...\n",
       "70   B  Female  4f55b2083deb4ec5a9ef3bb389ebb44d\n",
       "71   B    Male  6c51bba26f3146a3bab4fdb7987da579\n",
       "72   A    Male  f7cd1fb710aa43cd82be3cdec613a40c\n",
       "73   C    Male  4afae456ef4d4752aaa6cac6af9212fc\n",
       "74   C    Male  8c673c3c0b70494d93e8f12effe400a1\n",
       "75   C  Female  07922c17773c439c9356681c3b8cb74e\n",
       "76   B    Male  d5fc49f5a8fb4c9792ad31c9c309eb81\n",
       "77   B  Female  c8250c1a4472470fafac6a0e8a58e9e3\n",
       "78   B    Male  00bd15d5705d4112afdd0b3c9757ece4\n",
       "79   C  Female  412edbe4cd1a4be299d0829c1182a2a8\n",
       "80   A    Male  cd5bd423f5d84d6d8e12a772916d30ef\n",
       "81   B    Male  f7f3ad1d185944b1b5d86c8355375073\n",
       "82   B    Male  98d3f52083b8475a8195821bb0ad0df3\n",
       "83   C  Female  ea08128aa31647f0be802f14720eb5c2\n",
       "84   A  Female  18e00cf596f84a7cb383221c4cda28ca\n",
       "85   C  Female  2a0dfa8ae6794f74b0f0fadcd874490a\n",
       "86   B  Female  83f9d483ad8546228f5168bf4b5d10df\n",
       "87   B    Male  3462f9480a554e4dbecf044bd7f94883\n",
       "88   C  Female  4a82b9911f174c00a8d10a7280718d81\n",
       "89   B    Male  0519aa8c9ec24aaa9c23f48f459e66a3\n",
       "90   C    Male  4c3e97ffec8a4760a80983385e5b0ca6\n",
       "91   B    Male  cee0293852b546008b79a98d2e99ef6d\n",
       "92   A  Female  54bb1cf637504a05a20016880393b729\n",
       "93   A    Male  4ae45fa7b49040bab8e8823813c7ea1d\n",
       "94   B    Male  28e89af9935e4f4e98ad27ba39989753\n",
       "95   A    Male  23bd6f83b92f4381a077009918f0c704\n",
       "96   A    Male  c16224843eb94b35922d4b75c401594f\n",
       "97   B  Female  bb62117b6ae94603b1e4373495761bd6\n",
       "98   C    Male  b120fc3fbe8a4b0eb5e85524c2824dcc\n",
       "99   B    Male  6d2c1ac1e7b54ffeb0bf6f50f99eaa5c\n",
       "\n",
       "[100 rows x 3 columns]"
      ]
     },
     "execution_count": 5,
     "metadata": {},
     "output_type": "execute_result"
    }
   ],
   "source": [
    "example_df"
   ]
  },
  {
   "cell_type": "markdown",
   "metadata": {},
   "source": [
    "# simple use of collections.Counter"
   ]
  },
  {
   "cell_type": "code",
   "execution_count": 17,
   "metadata": {},
   "outputs": [
    {
     "name": "stdout",
     "output_type": "stream",
     "text": [
      "counting single category\n",
      "Counter({'C': 38, 'A': 32, 'B': 30})\n",
      "------------\n",
      "\n",
      "counting category by gender\n",
      "Counter({('C', 'Male'): 21, ('B', 'Male'): 19, ('A', 'Female'): 19, ('C', 'Female'): 17, ('A', 'Male'): 13, ('B', 'Female'): 11})\n",
      "------------\n",
      "\n",
      "counting category for males only\n",
      "Counter({'C': 21, 'B': 19, 'A': 13})\n",
      "------------\n",
      "\n"
     ]
    }
   ],
   "source": [
    "print('counting single category')\n",
    "count_cats = Counter(example_df.Cat)\n",
    "print(count_cats)\n",
    "print('-'*12+'\\n')\n",
    "print('counting category by gender')\n",
    "count_catXgener = Counter((c,g) for c,g in example_df.loc[:,['Cat','Gender']].values)\n",
    "\n",
    "# note:\n",
    "# (c,g) for c,g in example_df.loc[:,['Cat','Gender']].values\n",
    "# this is generating a tupple of the pairs we want to count,\n",
    "# Counter((c,g) for c,g in example_df.loc[:,['Cat','Gender']].values)\n",
    "# above counts thouse pairs\n",
    "\n",
    "print(count_catXgener)\n",
    "print('-'*12+'\\n')\n",
    "print('counting category for males only')\n",
    "count_cat_male = Counter(example_df[example_df.Gender == 'Male'].Cat)\n",
    "print(count_cat_male)\n",
    "print('-'*12+'\\n')"
   ]
  },
  {
   "cell_type": "markdown",
   "metadata": {},
   "source": [
    "## making simple counts into dataframes"
   ]
  },
  {
   "cell_type": "code",
   "execution_count": 10,
   "metadata": {},
   "outputs": [
    {
     "name": "stdout",
     "output_type": "stream",
     "text": [
      "counting single category\n",
      "   Count\n",
      "A     32\n",
      "B     40\n",
      "C     28\n",
      "------------\n",
      "\n",
      "counting category by gender\n",
      "  Cat  Gender  Count\n",
      "0   A    Male     17\n",
      "1   B  Female     17\n",
      "2   C  Female     15\n",
      "3   C    Male     13\n",
      "4   B    Male     23\n",
      "5   A  Female     15\n"
     ]
    }
   ],
   "source": [
    "print('counting single category')\n",
    "count_cats_df = pd.DataFrame.from_dict(count_cats, orient='index', columns=['Count'])\n",
    "print(count_cats_df)\n",
    "print('-'*12+'\\n')\n",
    "print('counting category by gender')\n",
    "\n",
    "# note, the method below is brute force. ill come cack to this \n",
    "\n",
    "count_catXgener_df = pd.DataFrame.from_dict(count_catXgener, orient='index', columns=['Count']).reset_index()\n",
    "\n",
    "count_catXgener_df = pd.DataFrame.from_dict({'Cat': [ i[0] for i in count_catXgener.keys()],\n",
    "                                             'Gender': [ i[1] for i in count_catXgener.keys()],\n",
    "                                             'Count': [n for n in count_catXgener_df.Count]})\n",
    "\n",
    "print(count_catXgener_df)\n",
    "\n"
   ]
  },
  {
   "cell_type": "markdown",
   "metadata": {},
   "source": [
    "## most_common()  "
   ]
  },
  {
   "cell_type": "code",
   "execution_count": 13,
   "metadata": {},
   "outputs": [
    {
     "data": {
      "text/plain": [
       "[(('B', 'Male'), 23),\n",
       " (('A', 'Male'), 17),\n",
       " (('B', 'Female'), 17),\n",
       " (('C', 'Female'), 15),\n",
       " (('A', 'Female'), 15),\n",
       " (('C', 'Male'), 13)]"
      ]
     },
     "execution_count": 13,
     "metadata": {},
     "output_type": "execute_result"
    }
   ],
   "source": [
    "count_catXgener.most_common()"
   ]
  },
  {
   "cell_type": "markdown",
   "metadata": {},
   "source": [
    "# how to subtract counts"
   ]
  },
  {
   "cell_type": "code",
   "execution_count": 14,
   "metadata": {},
   "outputs": [
    {
     "data": {
      "text/plain": [
       "Counter({'A': 32, 'B': 40, 'C': 28})"
      ]
     },
     "execution_count": 14,
     "metadata": {},
     "output_type": "execute_result"
    }
   ],
   "source": [
    "count_cats"
   ]
  },
  {
   "cell_type": "code",
   "execution_count": 15,
   "metadata": {},
   "outputs": [
    {
     "name": "stdout",
     "output_type": "stream",
     "text": [
      "Counter({'A': 0, 'B': 0, 'C': 0})\n"
     ]
    }
   ],
   "source": [
    "count_cats.subtract(count_cats)\n",
    "print(count_cats)"
   ]
  },
  {
   "cell_type": "markdown",
   "metadata": {},
   "source": [
    "# how to add counts"
   ]
  },
  {
   "cell_type": "code",
   "execution_count": 16,
   "metadata": {},
   "outputs": [
    {
     "data": {
      "text/html": [
       "<div>\n",
       "<style scoped>\n",
       "    .dataframe tbody tr th:only-of-type {\n",
       "        vertical-align: middle;\n",
       "    }\n",
       "\n",
       "    .dataframe tbody tr th {\n",
       "        vertical-align: top;\n",
       "    }\n",
       "\n",
       "    .dataframe thead th {\n",
       "        text-align: right;\n",
       "    }\n",
       "</style>\n",
       "<table border=\"1\" class=\"dataframe\">\n",
       "  <thead>\n",
       "    <tr style=\"text-align: right;\">\n",
       "      <th></th>\n",
       "      <th>Cat</th>\n",
       "      <th>Gender</th>\n",
       "      <th>id</th>\n",
       "    </tr>\n",
       "  </thead>\n",
       "  <tbody>\n",
       "    <tr>\n",
       "      <th>0</th>\n",
       "      <td>A</td>\n",
       "      <td>Male</td>\n",
       "      <td>45b407c12fca46a4b355b9c7df5590ac</td>\n",
       "    </tr>\n",
       "    <tr>\n",
       "      <th>1</th>\n",
       "      <td>A</td>\n",
       "      <td>Female</td>\n",
       "      <td>8c474b31822d40b1aa5355e640f23705</td>\n",
       "    </tr>\n",
       "    <tr>\n",
       "      <th>2</th>\n",
       "      <td>A</td>\n",
       "      <td>Male</td>\n",
       "      <td>17d201b5951544a68b52078659fb8b10</td>\n",
       "    </tr>\n",
       "    <tr>\n",
       "      <th>3</th>\n",
       "      <td>C</td>\n",
       "      <td>Female</td>\n",
       "      <td>ca22f97ef1cf4cf89f5e9d7db107f254</td>\n",
       "    </tr>\n",
       "    <tr>\n",
       "      <th>4</th>\n",
       "      <td>C</td>\n",
       "      <td>Male</td>\n",
       "      <td>4b920e6021854fb6b6f8c78d6e4cc52e</td>\n",
       "    </tr>\n",
       "    <tr>\n",
       "      <th>5</th>\n",
       "      <td>C</td>\n",
       "      <td>Female</td>\n",
       "      <td>34117ef1209d45ec94531e9a867f1bbd</td>\n",
       "    </tr>\n",
       "    <tr>\n",
       "      <th>6</th>\n",
       "      <td>B</td>\n",
       "      <td>Male</td>\n",
       "      <td>20a01af387fc4afc8ee623e0020d641e</td>\n",
       "    </tr>\n",
       "    <tr>\n",
       "      <th>7</th>\n",
       "      <td>C</td>\n",
       "      <td>Female</td>\n",
       "      <td>04309621c73d4611a12be8bc58a174b3</td>\n",
       "    </tr>\n",
       "    <tr>\n",
       "      <th>8</th>\n",
       "      <td>B</td>\n",
       "      <td>Male</td>\n",
       "      <td>edd7d5909795432ba53eae89c227cb5a</td>\n",
       "    </tr>\n",
       "    <tr>\n",
       "      <th>9</th>\n",
       "      <td>C</td>\n",
       "      <td>Female</td>\n",
       "      <td>3e7f3bc5391544d397eaf0b640fc3b6a</td>\n",
       "    </tr>\n",
       "  </tbody>\n",
       "</table>\n",
       "</div>"
      ],
      "text/plain": [
       "  Cat  Gender                                id\n",
       "0   A    Male  45b407c12fca46a4b355b9c7df5590ac\n",
       "1   A  Female  8c474b31822d40b1aa5355e640f23705\n",
       "2   A    Male  17d201b5951544a68b52078659fb8b10\n",
       "3   C  Female  ca22f97ef1cf4cf89f5e9d7db107f254\n",
       "4   C    Male  4b920e6021854fb6b6f8c78d6e4cc52e\n",
       "5   C  Female  34117ef1209d45ec94531e9a867f1bbd\n",
       "6   B    Male  20a01af387fc4afc8ee623e0020d641e\n",
       "7   C  Female  04309621c73d4611a12be8bc58a174b3\n",
       "8   B    Male  edd7d5909795432ba53eae89c227cb5a\n",
       "9   C  Female  3e7f3bc5391544d397eaf0b640fc3b6a"
      ]
     },
     "execution_count": 16,
     "metadata": {},
     "output_type": "execute_result"
    }
   ],
   "source": [
    "new_df = mk_example_df()\n",
    "new_df"
   ]
  },
  {
   "cell_type": "code",
   "execution_count": 17,
   "metadata": {},
   "outputs": [
    {
     "data": {
      "text/plain": [
       "Counter({'A': 3, 'B': 2, 'C': 5})"
      ]
     },
     "execution_count": 17,
     "metadata": {},
     "output_type": "execute_result"
    }
   ],
   "source": [
    "count_cats.update(new_df.Cat)\n",
    "count_cats"
   ]
  },
  {
   "cell_type": "markdown",
   "metadata": {},
   "source": [
    "## one more example of using Collection object"
   ]
  },
  {
   "cell_type": "code",
   "execution_count": 18,
   "metadata": {},
   "outputs": [
    {
     "name": "stdout",
     "output_type": "stream",
     "text": [
      "Counts of Cats:  Counter({'B': 37, 'C': 35, 'A': 28})\n",
      "Counts of Male Cats:  Counter({'B': 20, 'C': 16, 'A': 14})\n",
      "Counts of Female Cats:  Counter({'C': 19, 'B': 17, 'A': 14})\n"
     ]
    }
   ],
   "source": [
    "df = mk_example_df(100)\n",
    "full_counts = Counter(df.Cat)\n",
    "M_counts = Counter(df[df.Gender == 'Male'].Cat)\n",
    "F_counts = Counter(df[df.Gender == 'Female'].Cat)\n",
    "print(\"Counts of Cats: \", full_counts)\n",
    "print(\"Counts of Male Cats: \", M_counts)\n",
    "print(\"Counts of Female Cats: \", F_counts)"
   ]
  },
  {
   "cell_type": "code",
   "execution_count": 19,
   "metadata": {},
   "outputs": [
    {
     "name": "stdout",
     "output_type": "stream",
     "text": [
      "Null counts:  Counter({'A': 0, 'B': 0, 'C': 0})\n"
     ]
    }
   ],
   "source": [
    "null_counts = full_counts.copy()\n",
    "null_counts.subtract(full_counts)\n",
    "print(\"Null counts: \", null_counts)"
   ]
  },
  {
   "cell_type": "code",
   "execution_count": 20,
   "metadata": {},
   "outputs": [
    {
     "name": "stdout",
     "output_type": "stream",
     "text": [
      "Making a copy of sample space counts\n"
     ]
    },
    {
     "data": {
      "text/plain": [
       "Counter({'A': 0, 'B': 0, 'C': 0})"
      ]
     },
     "execution_count": 20,
     "metadata": {},
     "output_type": "execute_result"
    }
   ],
   "source": [
    "print(\"Making a copy of sample space counts\")\n",
    "collector_of_counts = null_counts.copy()\n",
    "collector_of_counts"
   ]
  },
  {
   "cell_type": "code",
   "execution_count": 21,
   "metadata": {},
   "outputs": [
    {
     "name": "stdout",
     "output_type": "stream",
     "text": [
      "updating null counts with male counts\n",
      "collector:  Counter({'B': 20, 'C': 16, 'A': 14})\n",
      "male counts:  Counter({'B': 20, 'C': 16, 'A': 14})\n"
     ]
    }
   ],
   "source": [
    "print(\"updating null counts with male counts\")\n",
    "collector_of_counts.update(M_counts)\n",
    "print(\"collector: \", collector_of_counts)\n",
    "print(\"male counts: \", M_counts)"
   ]
  },
  {
   "cell_type": "code",
   "execution_count": 22,
   "metadata": {},
   "outputs": [
    {
     "name": "stdout",
     "output_type": "stream",
     "text": [
      "updating collector with femail counts\n",
      "collector:  Counter({'B': 37, 'C': 35, 'A': 28})\n",
      "female counts:  Counter({'C': 19, 'B': 17, 'A': 14})\n"
     ]
    }
   ],
   "source": [
    "print(\"updating collector with femail counts\")\n",
    "collector_of_counts.update(F_counts)\n",
    "print(\"collector: \", collector_of_counts)\n",
    "print(\"female counts: \", F_counts)"
   ]
  },
  {
   "cell_type": "code",
   "execution_count": 23,
   "metadata": {},
   "outputs": [
    {
     "name": "stdout",
     "output_type": "stream",
     "text": [
      "Counter({'B': 37, 'C': 35, 'A': 28})\n",
      "Counter({'B': 20, 'C': 16, 'A': 14})\n",
      "Counter({'C': 19, 'B': 17, 'A': 14})\n",
      "Counter({'B': 37, 'C': 35, 'A': 28})\n"
     ]
    }
   ],
   "source": [
    "print(collector_of_counts)\n",
    "print(M_counts)\n",
    "print(F_counts)\n",
    "print(full_counts)"
   ]
  },
  {
   "cell_type": "markdown",
   "metadata": {},
   "source": [
    "## looking at chainmap"
   ]
  },
  {
   "cell_type": "code",
   "execution_count": 24,
   "metadata": {},
   "outputs": [
    {
     "name": "stdout",
     "output_type": "stream",
     "text": [
      "Example data\n",
      "   Cat  Gender                                id\n",
      "0   AL    Male  c093605738b64842839f7e1e061da449\n",
      "1    S    Male  778856c8fec64ff095d9f46e14f54164\n",
      "2   BZ  Female  d5b0641c0af646fe9972658d88a6764c\n",
      "3    X    Male  039b1a1f223f49318d3f703047f83fdd\n",
      "4   AR  Female  3ac4e6e34a704e2f9ab1c8256c2f4ae0\n",
      "5   AR    Male  c958145b05ea4bc5a5b5b12c0cea3bfb\n",
      "6   AV  Female  e80d1e9c7f824cde814cc36278375712\n",
      "7    A  Female  93bb6a4777a1448ebd0e308bf5a0048a\n",
      "8    X  Female  77a03a1c307b4805a9538350c86c9bfe\n",
      "9   AQ  Female  693b9c8e521242f7a488fd1a61bd0823\n",
      "10  AC  Female  1236d2323cbe4dadb4be0df85a8a9b74\n",
      "11   P  Female  5e168c25d12d4c4993f7ab2834f9745b\n",
      "12  AH  Female  aedc8d24877c4d9d8ba8ad3b5db2cfe0\n",
      "13  AP  Female  19bebca4af974026b6e17bed861f8015\n",
      "14   M    Male  fa9b44a2fd4548e28a133c39d1db3843\n",
      "15  AX  Female  6cb048e7372b4d69830eaff525e6f8e0\n",
      "16  AZ    Male  7d6e0b88c7454b6f9ad1c580ffd0ddf2\n",
      "17   C    Male  fa51d669a1e44653a8f66b05970eb404\n",
      "18  AC    Male  344569709d0a4e53b4bfb176cd3ed9a0\n",
      "19  AI    Male  4e4202b9bb804755984037bcedd056be\n",
      "20   P    Male  60b91d4651ab4027b904115fcd6fb2bc\n",
      "21   F    Male  55749ce7320748468013453a4e75ff9e\n",
      "22  AJ  Female  b8ba29768ff8464f8490d6cce178ba19\n",
      "23   D    Male  fa9fb13ed2384c72b9cf030a66e9a556\n",
      "24   O    Male  663628410072439b9b01c837d0311610\n",
      "25  AX    Male  02265b92494d4f09b1931b5c1403f285\n",
      "26  AB  Female  aac33b8e49d44bdb8997eeeae201aec6\n",
      "27  AI  Female  dcf2dec3a8e043698fb6b984a9b1fe48\n",
      "28  BZ    Male  1e4cf50133d64c8289fff2bcd2134d0b\n",
      "29   T    Male  e5756b3a8f39409c828a46c7b5b31369\n",
      "Conter of all data\n",
      "Counter({'BZ': 2, 'X': 2, 'AR': 2, 'AC': 2, 'P': 2, 'AX': 2, 'AI': 2, 'AL': 1, 'S': 1, 'AV': 1, 'A': 1, 'AQ': 1, 'AH': 1, 'AP': 1, 'M': 1, 'AZ': 1, 'C': 1, 'F': 1, 'AJ': 1, 'D': 1, 'O': 1, 'AB': 1, 'T': 1})\n",
      "Conter Male\n",
      "Counter({'AL': 1, 'S': 1, 'X': 1, 'AR': 1, 'M': 1, 'AZ': 1, 'C': 1, 'AC': 1, 'AI': 1, 'P': 1, 'F': 1, 'D': 1, 'O': 1, 'AX': 1, 'BZ': 1, 'T': 1})\n",
      "Conter Female\n",
      "Counter({'BZ': 1, 'AR': 1, 'AV': 1, 'A': 1, 'X': 1, 'AQ': 1, 'AC': 1, 'P': 1, 'AH': 1, 'AP': 1, 'AX': 1, 'AJ': 1, 'AB': 1, 'AI': 1})\n"
     ]
    }
   ],
   "source": [
    "df = mk_example_df(I=30,N=26*2)\n",
    "full_counts = Counter(df.Cat)\n",
    "M_counts = Counter(df[df.Gender == 'Male'].Cat)\n",
    "F_counts = Counter(df[df.Gender == 'Female'].Cat)\n",
    "print(\"Example data\")\n",
    "print(df)\n",
    "print(\"Conter of all data\")\n",
    "print(full_counts)\n",
    "print(\"Conter Male\")\n",
    "print(M_counts)\n",
    "print(\"Conter Female\")\n",
    "print(F_counts)"
   ]
  },
  {
   "cell_type": "code",
   "execution_count": 26,
   "metadata": {},
   "outputs": [
    {
     "name": "stdout",
     "output_type": "stream",
     "text": [
      "Collection keys from all counts\n",
      "['AL', 'S', 'BZ', 'X', 'AR', 'AV', 'A', 'AQ', 'AC', 'P', 'AH', 'AP', 'M', 'AX', 'AZ', 'C', 'AI', 'F', 'AJ', 'D', 'O', 'AB', 'T']\n"
     ]
    }
   ],
   "source": [
    "print(\"Collection keys from all counts\")\n",
    "l = list(full_counts.keys())\n",
    "print(l)"
   ]
  },
  {
   "cell_type": "code",
   "execution_count": 27,
   "metadata": {},
   "outputs": [
    {
     "name": "stdout",
     "output_type": "stream",
     "text": [
      "['A', 'AB', 'AC', 'AH', 'AI', 'AJ', 'AL', 'AP', 'AQ', 'AR', 'AV', 'AX', 'AZ', 'BZ', 'C', 'D', 'F', 'M', 'O', 'P', 'S', 'T', 'X']\n"
     ]
    }
   ],
   "source": [
    "l.sort()\n",
    "print(l)"
   ]
  },
  {
   "cell_type": "code",
   "execution_count": 28,
   "metadata": {},
   "outputs": [
    {
     "name": "stdout",
     "output_type": "stream",
     "text": [
      "Collection keys Chainmap of Males and Female collection objects\n",
      "['A', 'AB', 'AC', 'AH', 'AI', 'AJ', 'AL', 'AP', 'AQ', 'AR', 'AV', 'AX', 'AZ', 'BZ', 'C', 'D', 'F', 'M', 'O', 'P', 'S', 'T', 'X']\n",
      "We see that chainmap can be used to produce a universe of objects by combining collection objects.\n"
     ]
    }
   ],
   "source": [
    "print(\"Collection keys Chainmap of Males and Female collection objects\")\n",
    "lm = list(ChainMap(M_counts, F_counts))\n",
    "lm.sort()\n",
    "print(lm)\n",
    "print(\"We see that chainmap can be used to produce a universe of objects by combining collection objects.\")"
   ]
  },
  {
   "cell_type": "markdown",
   "metadata": {},
   "source": [
    "# Itteritive approch to proccessing counts  "
   ]
  },
  {
   "cell_type": "code",
   "execution_count": 29,
   "metadata": {},
   "outputs": [],
   "source": [
    "# first we wright some text data\n",
    "df = mk_example_df(I=300,N=26*2)\n",
    "df.to_csv(\"./example_csv.csv\", index=False)\n"
   ]
  },
  {
   "cell_type": "code",
   "execution_count": 30,
   "metadata": {},
   "outputs": [
    {
     "name": "stdout",
     "output_type": "stream",
     "text": [
      "07/28/2022  12:55 PM            12,765 example_csv.csv\n"
     ]
    }
   ],
   "source": [
    "!DIR | findstr \"example_csv\""
   ]
  },
  {
   "cell_type": "code",
   "execution_count": 32,
   "metadata": {},
   "outputs": [
    {
     "name": "stdout",
     "output_type": "stream",
     "text": [
      "['Cat', 'Gender', 'id\\n']\n",
      "0     \n",
      "Counter()\n",
      "------------\n",
      "100     \n",
      "Counter({   'AL': 7,\n",
      "            'AD': 6,\n",
      "            'V': 5,\n",
      "            'N': 5,\n",
      "            'W': 5,\n",
      "            'AE': 4,\n",
      "            'Y': 4,\n",
      "            'AW': 4,\n",
      "            'R': 3,\n",
      "            'AA': 3,\n",
      "            'I': 3,\n",
      "            'B': 3,\n",
      "            'C': 3,\n",
      "            'AZ': 2,\n",
      "            'J': 2,\n",
      "            'L': 2,\n",
      "            'P': 2,\n",
      "            'A': 2,\n",
      "            'M': 2,\n",
      "            'U': 2,\n",
      "            'AR': 2,\n",
      "            'G': 2,\n",
      "            'X': 2,\n",
      "            'E': 2,\n",
      "            'AK': 2,\n",
      "            'AG': 2,\n",
      "            'AN': 1,\n",
      "            'F': 1,\n",
      "            'BZ': 1,\n",
      "            'AY': 1,\n",
      "            'AH': 1,\n",
      "            'H': 1,\n",
      "            'AJ': 1,\n",
      "            'AC': 1,\n",
      "            'AP': 1,\n",
      "            'AU': 1,\n",
      "            'K': 1,\n",
      "            'AV': 1,\n",
      "            'AM': 1,\n",
      "            'AI': 1,\n",
      "            'O': 1,\n",
      "            'AQ': 1,\n",
      "            'D': 1,\n",
      "            'AF': 1,\n",
      "            'AB': 1})\n",
      "------------\n",
      "200     \n",
      "Counter({   'V': 9,\n",
      "            'AD': 9,\n",
      "            'N': 9,\n",
      "            'AL': 8,\n",
      "            'L': 7,\n",
      "            'AE': 6,\n",
      "            'BZ': 6,\n",
      "            'W': 6,\n",
      "            'AA': 6,\n",
      "            'Y': 6,\n",
      "            'I': 6,\n",
      "            'AW': 6,\n",
      "            'G': 6,\n",
      "            'B': 6,\n",
      "            'M': 5,\n",
      "            'AR': 5,\n",
      "            'C': 5,\n",
      "            'Q': 5,\n",
      "            'P': 4,\n",
      "            'H': 4,\n",
      "            'AJ': 4,\n",
      "            'X': 4,\n",
      "            'E': 4,\n",
      "            'AQ': 4,\n",
      "            'AT': 4,\n",
      "            'AZ': 3,\n",
      "            'J': 3,\n",
      "            'R': 3,\n",
      "            'U': 3,\n",
      "            'AV': 3,\n",
      "            'AK': 3,\n",
      "            'AG': 3,\n",
      "            'AS': 3,\n",
      "            'AN': 2,\n",
      "            'A': 2,\n",
      "            'F': 2,\n",
      "            'AY': 2,\n",
      "            'AH': 2,\n",
      "            'AP': 2,\n",
      "            'AU': 2,\n",
      "            'K': 2,\n",
      "            'AM': 2,\n",
      "            'D': 2,\n",
      "            'AB': 2,\n",
      "            'S': 2,\n",
      "            'AX': 2,\n",
      "            'AO': 2,\n",
      "            'AC': 1,\n",
      "            'AI': 1,\n",
      "            'O': 1,\n",
      "            'AF': 1})\n",
      "------------\n",
      "300     \n",
      "Counter({   'N': 12,\n",
      "            'E': 11,\n",
      "            'AD': 10,\n",
      "            'C': 10,\n",
      "            'V': 9,\n",
      "            'AE': 9,\n",
      "            'Y': 9,\n",
      "            'AR': 9,\n",
      "            'AT': 9,\n",
      "            'AL': 8,\n",
      "            'L': 8,\n",
      "            'W': 8,\n",
      "            'AA': 8,\n",
      "            'AW': 8,\n",
      "            'G': 8,\n",
      "            'AZ': 7,\n",
      "            'BZ': 7,\n",
      "            'I': 7,\n",
      "            'H': 7,\n",
      "            'B': 7,\n",
      "            'Q': 7,\n",
      "            'M': 6,\n",
      "            'AK': 6,\n",
      "            'AB': 6,\n",
      "            'AN': 5,\n",
      "            'J': 5,\n",
      "            'P': 5,\n",
      "            'F': 5,\n",
      "            'R': 5,\n",
      "            'AY': 5,\n",
      "            'AJ': 5,\n",
      "            'X': 5,\n",
      "            'AU': 5,\n",
      "            'AQ': 5,\n",
      "            'U': 4,\n",
      "            'K': 4,\n",
      "            'AV': 4,\n",
      "            'AM': 4,\n",
      "            'AI': 4,\n",
      "            'O': 4,\n",
      "            'AG': 4,\n",
      "            'S': 4,\n",
      "            'AF': 3,\n",
      "            'AS': 3,\n",
      "            'AX': 3,\n",
      "            'A': 2,\n",
      "            'AH': 2,\n",
      "            'AP': 2,\n",
      "            'D': 2,\n",
      "            'AO': 2,\n",
      "            'T': 2,\n",
      "            'AC': 1})\n",
      "------------\n",
      "Final counts:  Counter({'N': 12, 'E': 11, 'AD': 10, 'C': 10, 'V': 9, 'AE': 9, 'Y': 9, 'AR': 9, 'AT': 9, 'AL': 8, 'L': 8, 'W': 8, 'AA': 8, 'AW': 8, 'G': 8, 'AZ': 7, 'BZ': 7, 'I': 7, 'H': 7, 'B': 7, 'Q': 7, 'M': 6, 'AK': 6, 'AB': 6, 'AN': 5, 'J': 5, 'P': 5, 'F': 5, 'R': 5, 'AY': 5, 'AJ': 5, 'X': 5, 'AU': 5, 'AQ': 5, 'U': 4, 'K': 4, 'AV': 4, 'AM': 4, 'AI': 4, 'O': 4, 'AG': 4, 'S': 4, 'AF': 3, 'AS': 3, 'AX': 3, 'A': 2, 'AH': 2, 'AP': 2, 'D': 2, 'AO': 2, 'T': 2, 'AC': 1})\n"
     ]
    }
   ],
   "source": [
    "with open(\"./example_csv.csv\", \"r\") as f:\n",
    "    col1_counter = Counter()\n",
    "    i=0\n",
    "    for line in f:\n",
    "        if i==0:\n",
    "            print(line.split(','))\n",
    "        else:\n",
    "            col1_counter.update([line.split(',')[0]])\n",
    "        if i%100 == 0:\n",
    "            print(i,\" \"*4)\n",
    "            pp.pprint(col1_counter)\n",
    "            print('-'*12)\n",
    "        i+=1\n",
    "print(\"Final counts: \", col1_counter)"
   ]
  }
 ],
 "metadata": {
  "kernelspec": {
   "display_name": "Python 3",
   "language": "python",
   "name": "python3"
  },
  "language_info": {
   "codemirror_mode": {
    "name": "ipython",
    "version": 3
   },
   "file_extension": ".py",
   "mimetype": "text/x-python",
   "name": "python",
   "nbconvert_exporter": "python",
   "pygments_lexer": "ipython3",
   "version": "3.7.3"
  }
 },
 "nbformat": 4,
 "nbformat_minor": 4
}
